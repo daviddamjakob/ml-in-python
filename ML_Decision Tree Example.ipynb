{
 "cells": [
  {
   "cell_type": "markdown",
   "metadata": {},
   "source": [
    "# Decision Tree Example"
   ]
  },
  {
   "cell_type": "code",
   "execution_count": null,
   "metadata": {},
   "outputs": [],
   "source": [
    "import pymysql\n",
    "import pandas as pd\n",
    "from sklearn import tree \n",
    "import pandas as pd\n",
    "from sklearn.model_selection import train_test_split\n",
    "from sklearn import metrics\n",
    "import matplotlib.pyplot as plt\n",
    "%matplotlib inline"
   ]
  },
  {
   "cell_type": "code",
   "execution_count": null,
   "metadata": {},
   "outputs": [],
   "source": [
    "#Connection parameters to the instance and database\n",
    "host=\"xxx\"\n",
    "user=\"xxx\"\n",
    "password=\"xxx\"\n",
    "db=\"xxx\""
   ]
  },
  {
   "cell_type": "markdown",
   "metadata": {},
   "source": [
    "Database statements\n",
    "\n",
    "```\n",
    "CREATE TABLE golf (\n",
    "  id INT NOT NULL AUTO_INCREMENT,\n",
    "  temperature VARCHAR(45) NULL,\n",
    "  humidity VARCHAR(45) NULL,\n",
    "  windy VARCHAR(45) NULL,\n",
    "  outlook VARCHAR(45) NULL,\n",
    "  play  VARCHAR(45) NULL,\n",
    "  PRIMARY KEY (id));\n",
    "\n",
    "Insert into golf (temperature, humidity, windy, play, outlook) values ('hot','high','false','no','sunny');\n",
    "Insert into golf (temperature, humidity, windy, play, outlook) values ('hot','high','true','no','sunny');\n",
    "Insert into golf (temperature, humidity, windy, play, outlook) values ('hot','high','false','yes','overcast');\n",
    "Insert into golf (temperature, humidity, windy, play, outlook) values ('mild','high','false','yes','rainy');\n",
    "Insert into golf (temperature, humidity, windy, play, outlook) values ('cool','normal','false','yes','rainy');\n",
    "Insert into golf (temperature, humidity, windy, play, outlook) values ('cool','normal','true','no','rainy');\n",
    "Insert into golf (temperature, humidity, windy, play, outlook) values ('cool','normal','true','yes','overcast');\n",
    "Insert into golf (temperature, humidity, windy, play, outlook) values ('mild','high','false','no','sunny');\n",
    "Insert into golf (temperature, humidity, windy, play, outlook) values ('cool','normal','false','yes','sunny');\n",
    "Insert into golf (temperature, humidity, windy, play, outlook) values ('mild','normal','false','yes','rainy');\n",
    "Insert into golf (temperature, humidity, windy, play, outlook) values ('mild','normal','true','yes','sunny');\n",
    "Insert into golf (temperature, humidity, windy, play, outlook) values ('mild','high','true','yes','overcast');\n",
    "Insert into golf (temperature, humidity, windy, play, outlook) values ('hot','normal','false','yes','overcast');\n",
    "Insert into golf (temperature, humidity, windy, play, outlook) values ('mild','high','false','no','rainy');\n",
    "\n",
    "```"
   ]
  },
  {
   "cell_type": "code",
   "execution_count": null,
   "metadata": {},
   "outputs": [],
   "source": [
    "# Connect to the database and retrieve the data\n",
    "connection = pymysql.connect(host=host,user=user,password=password,db=db)\n",
    "sqlquery = pd.read_sql_query(\"select outlook, temperature, humidity, windy, play from golf\", connection)"
   ]
  },
  {
   "cell_type": "code",
   "execution_count": null,
   "metadata": {
    "scrolled": true
   },
   "outputs": [],
   "source": [
    "# Transfer the data into a dataframe\n",
    "df = pd.DataFrame(sqlquery, columns=['outlook','temperature','humidity','windy','play'])\n",
    "df"
   ]
  },
  {
   "cell_type": "code",
   "execution_count": null,
   "metadata": {},
   "outputs": [],
   "source": [
    "# We can't work text data, convert to one-hot encoding\n",
    "data = pd.get_dummies(df[ ['outlook', 'temperature', 'humidity', 'windy'] ])\n",
    "data"
   ]
  },
  {
   "cell_type": "code",
   "execution_count": null,
   "metadata": {},
   "outputs": [],
   "source": [
    "data"
   ]
  },
  {
   "cell_type": "code",
   "execution_count": null,
   "metadata": {},
   "outputs": [],
   "source": [
    "# Create a train and test dataset\n",
    "X_train, X_test, y_train, y_test = train_test_split(data, df[\"play\"], test_size=0.2) \n",
    "clf = tree.DecisionTreeClassifier()\n",
    "clf_train = clf.fit(X_train, y_train)"
   ]
  },
  {
   "cell_type": "code",
   "execution_count": null,
   "metadata": {},
   "outputs": [],
   "source": [
    "# Print the accuracy\n",
    "y_pred = clf.predict(X_test)\n",
    "print(metrics.accuracy_score(y_test, y_pred))"
   ]
  },
  {
   "cell_type": "code",
   "execution_count": null,
   "metadata": {},
   "outputs": [],
   "source": [
    "# Show the decision tree\n",
    "plt.figure()\n",
    "plt.rcParams[\"figure.dpi\"] = 600.0\n",
    "tree.plot_tree(clf,filled=True,feature_names = list(data.columns))\n",
    "plt.show()"
   ]
  },
  {
   "cell_type": "code",
   "execution_count": null,
   "metadata": {},
   "outputs": [],
   "source": []
  }
 ],
 "metadata": {
  "kernelspec": {
   "display_name": "Python 3",
   "language": "python",
   "name": "python3"
  },
  "language_info": {
   "codemirror_mode": {
    "name": "ipython",
    "version": 3
   },
   "file_extension": ".py",
   "mimetype": "text/x-python",
   "name": "python",
   "nbconvert_exporter": "python",
   "pygments_lexer": "ipython3",
   "version": "3.8.5"
  }
 },
 "nbformat": 4,
 "nbformat_minor": 4
}
